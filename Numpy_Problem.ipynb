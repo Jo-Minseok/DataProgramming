{
  "cells": [
    {
      "cell_type": "markdown",
      "metadata": {
        "id": "view-in-github",
        "colab_type": "text"
      },
      "source": [
        "<a href=\"https://colab.research.google.com/github/Jo-Minseok/DataProgramming/blob/main/Numpy_Problem.ipynb\" target=\"_parent\"><img src=\"https://colab.research.google.com/assets/colab-badge.svg\" alt=\"Open In Colab\"/></a>"
      ]
    },
    {
      "cell_type": "markdown",
      "source": [
        "### **도전문제**\n",
        "\n",
        "---\n",
        "\n"
      ],
      "metadata": {
        "id": "Z6bA93k0TP2r"
      }
    },
    {
      "cell_type": "code",
      "source": [
        "#도전문제 3.1 다차원 배열 생성하기(난이도: 중)\n",
        "#대각 성분이 모두 10인 4 X 4 크기의 다차원 배열을 생성하라.\n",
        "\n",
        "np.eye(4,4)*10"
      ],
      "metadata": {
        "colab": {
          "base_uri": "https://localhost:8080/"
        },
        "id": "-wzLRkrkS4pA",
        "outputId": "ceddef2f-3cac-4b8a-d82d-83e3cfa49e12"
      },
      "execution_count": null,
      "outputs": [
        {
          "output_type": "execute_result",
          "data": {
            "text/plain": [
              "array([[10.,  0.,  0.,  0.],\n",
              "       [ 0., 10.,  0.,  0.],\n",
              "       [ 0.,  0., 10.,  0.],\n",
              "       [ 0.,  0.,  0., 10.]])"
            ]
          },
          "metadata": {},
          "execution_count": 3
        }
      ]
    },
    {
      "cell_type": "code",
      "source": [
        "#도전문제 3.2 (난이도: 중)\n",
        "#sin0도에서 sin180도 사이의 값 11개를 다음과 같이 출력하여라. 이때 sin()함수의 입력을 라디안을 사용하여라.(힌트: 넘파이의 linspace() 함수를 사용해보자. 라디안으로 180도는 np,pi를 사용하면 된다.)\n",
        "#[0.00000000e+00 3.09016994e-01 5.87785252e-01 8.09016994e-01\n",
        "# 9.51056516e-01 1.00000000e+00 9.51056516e-01 8.09016994e-01\n",
        "# 5.87785252e-01 3.09016994e-01 1.22464680e-16]\n",
        "\n",
        "a = np.linspace(0,np.pi,11)\n",
        "print(np.sin(a))"
      ],
      "metadata": {
        "colab": {
          "base_uri": "https://localhost:8080/"
        },
        "id": "5-cIRpERTesd",
        "outputId": "38373ea2-a4cc-4a08-ea46-0fd8a9772940"
      },
      "execution_count": null,
      "outputs": [
        {
          "output_type": "stream",
          "name": "stdout",
          "text": [
            "[0.00000000e+00 3.09016994e-01 5.87785252e-01 8.09016994e-01\n",
            " 9.51056516e-01 1.00000000e+00 9.51056516e-01 8.09016994e-01\n",
            " 5.87785252e-01 3.09016994e-01 1.22464680e-16]\n"
          ]
        }
      ]
    },
    {
      "cell_type": "code",
      "source": [
        "#도전문제 3.3 (난이도: 하)\n",
        "#b = np.array([[1, 1],[2, 2],[3, 3]])\n",
        "#위의 b 배열에 insert(b,1,[1,2,3],axis=1)을 수행하고 그 결과를 출력하라.\n",
        "\n",
        "b = np.array([[1,1],\n",
        "             [2,2],\n",
        "             [3,3]])\n",
        "np.insert(b,1,[1,2,3],axis=1)"
      ],
      "metadata": {
        "colab": {
          "base_uri": "https://localhost:8080/"
        },
        "id": "sleazXtXUcME",
        "outputId": "af233ded-0eb1-40d2-b6bc-cce36a7783f0"
      },
      "execution_count": null,
      "outputs": [
        {
          "output_type": "execute_result",
          "data": {
            "text/plain": [
              "array([[1, 1, 1],\n",
              "       [2, 2, 2],\n",
              "       [3, 3, 3]])"
            ]
          },
          "metadata": {},
          "execution_count": 6
        }
      ]
    },
    {
      "cell_type": "code",
      "source": [
        "#도전문제 3.4 위의 결과를 수정하여 d 배열의 값이 axis 1, axis 0 방향에 대하여 각각 내림차순 정렬이 되도록 하고 그 결과를 출력하여라(힌트: 넘파이의 flip() 함수를 사용해보자.)\n",
        "#array([[55,35,24],[69,19,9],[11,4,1]]), array([[4,1,9],[35,19,11],[69,24,55]])\n",
        "#위의 결과: array([[1,4,11],\n",
        "#                  [9,19,55],\n",
        "#                  [24,35,69]])\n",
        "result1=np.array([[35,24,55],[69,19,9],[4,1,11]])\n",
        "result1.sort()\n",
        "np.flip(result1, axis=0)\n",
        "print(result1,'\\n')\n",
        "\n",
        "result2=np.array([[35,24,55],[69,19,9],[4,1,11]])\n",
        "result2.sort(axis=0)\n",
        "print(result2)"
      ],
      "metadata": {
        "colab": {
          "base_uri": "https://localhost:8080/"
        },
        "id": "jHLbwu2SU1Sr",
        "outputId": "705b119f-b3e5-4a46-d449-5d824c8099ee"
      },
      "execution_count": null,
      "outputs": [
        {
          "output_type": "stream",
          "name": "stdout",
          "text": [
            "[[24 35 55]\n",
            " [ 9 19 69]\n",
            " [ 1  4 11]] \n",
            "\n",
            "[[ 4  1  9]\n",
            " [35 19 11]\n",
            " [69 24 55]]\n"
          ]
        }
      ]
    },
    {
      "cell_type": "code",
      "source": [
        "# 도전문제 3.5\n",
        "# 1. 1에서 9까지의 모든 정수 값을 크기 순서대로 가지는 3x3 크기의 행렬 a를 arange()와 reshape()을 이용하여 생성하고, 모든 성분의 값이 3인 3x3 크기의 행렬 b를 full() 함수를 사용하여\n",
        "# 생성한 다음, 다음과 같이 출력하라.\n",
        "# a = [[1 2 3]\n",
        "#      [4 5 6]\n",
        "#      [7 8 9]]\n",
        "# b = [[3 3 3]\n",
        "#      [3 3 3]\n",
        "#      [3 3 3]]\n",
        "a = np.arange(1,10).reshape(3,3)\n",
        "b = np.full((3,3),3)\n",
        "print(\"a = \",a,'\\n')\n",
        "print(\"b = \",b)"
      ],
      "metadata": {
        "colab": {
          "base_uri": "https://localhost:8080/"
        },
        "id": "U2wp5xrDXh_r",
        "outputId": "7e223b43-2e19-47a6-a4d3-f74109986247"
      },
      "execution_count": null,
      "outputs": [
        {
          "output_type": "stream",
          "name": "stdout",
          "text": [
            "a =  [[1 2 3]\n",
            " [4 5 6]\n",
            " [7 8 9]] \n",
            "\n",
            "b =  [[3 3 3]\n",
            " [3 3 3]\n",
            " [3 3 3]]\n"
          ]
        }
      ]
    },
    {
      "cell_type": "code",
      "source": [
        "# 도전문제 3.6(난이도:중)\n",
        "# arange()를 사용하여 1에서 50까지의 원소를 가지는 다차원 배열을 만들자. 이 배열의 원소 50개를 랜덤하게 섞은 후 80%의 데이터는 train_data에 넣고 나머지 20%의 데이터는\n",
        "# test_data라는 배열에 넣어서 이 두 배열을 반환하는 함수 train_test_split()을 만들자. 반환된 배열 값을 각각 출력하여라.\n",
        "def train_test_split(a,per80):\n",
        "  train_data = a[:per80]\n",
        "  test_data = a[per80:]\n",
        "  print(\"train_data_ = \",train_data,'\\n')\n",
        "  print(\"test_data_ = \",test_data)\n",
        "\n",
        "a = np.arange(1,51)\n",
        "per80 = int(np.size(a)*0.8)\n",
        "per20 = int(np.size(a)*0.2)\n",
        "np.random.shuffle(a)\n",
        "train_test_split(a,per80)"
      ],
      "metadata": {
        "colab": {
          "base_uri": "https://localhost:8080/"
        },
        "id": "d1Q4D2ouYY8z",
        "outputId": "1df00bf2-fa9c-4d2f-a5ea-5a172d79e49d"
      },
      "execution_count": null,
      "outputs": [
        {
          "output_type": "stream",
          "name": "stdout",
          "text": [
            "train_data_ =  [16 14 49 41 47 45 40 10  5  6 12 44 36 26 50 30 17 19 32 13 28  3 48 11\n",
            " 33 42 21  4  1  7 22 24 39 23 46 29 20  8 43 31] \n",
            "\n",
            "test_data_ =  [35 38 25 37  2 34 27 15  9 18]\n"
          ]
        }
      ]
    },
    {
      "cell_type": "code",
      "source": [
        "# 도전문제 3.7: 다차원 행렬의 생성과 활용(난이도: 중)\n",
        "# 1.다음과 같은 연립방정식의 해를 numpy.linalg의 solve() 함수를 사용하여 구하여라.\n",
        "# x + y - z = 0\n",
        "# 2x - y + 3z = 9\n",
        "# x + 2y + z = 8\n",
        "\n",
        "a = np.array([[1,1,-1],\n",
        "              [2,-1,3],\n",
        "              [1,2,1]])\n",
        "b = np.array([0,9,8])\n",
        "print(np.linalg.solve(a,b))\n",
        "\n",
        "# 2. 1번 문제의 연립방정식은 다음과 같은 행렬 A를 가진다.\n",
        "# A = np.array([[1,1,-1],[2,-1,3],[1,2,1]],dtype='int32')\n",
        "# 이 행렬의 행렬식을 linalg.det() 함수를 사용하여 다음과 같이 구하여라.\n",
        "# det(A) = -11.0\n",
        "print(\"dat(A) = %.1f\"%np.linalg.det(a))\n"
      ],
      "metadata": {
        "colab": {
          "base_uri": "https://localhost:8080/"
        },
        "id": "YStGlRc4Z5yZ",
        "outputId": "464ccda5-a1e6-47e4-e63c-8e740acaa0f7"
      },
      "execution_count": null,
      "outputs": [
        {
          "output_type": "stream",
          "name": "stdout",
          "text": [
            "[1. 2. 3.]\n",
            "dat(A) = -11.0\n"
          ]
        }
      ]
    },
    {
      "cell_type": "markdown",
      "source": [
        "### **심화문제**\n",
        "\n",
        "---\n",
        "\n",
        "\n",
        "\n"
      ],
      "metadata": {
        "id": "xgKlGtT1S5lv"
      }
    },
    {
      "cell_type": "code",
      "source": [
        "#3.1다음의 기능을 넘파이를 사용하여 구현하시오.\n",
        "#1) numpy의 arange()함수를 사용하여 1에서 45까지의 연속적인 번호를 생성하여라.\n",
        "#[ 1 2 3 4 5 6 7 8 9 10 11 12 13 14 15 16 17 18 19 20 21 22 23 24 25 26 27 28 29 30 31 32 33 34 35 36 37 38 39 40 41 42 43 44 45]\n",
        "import numpy as np\n",
        "np.arange(0,46)"
      ],
      "metadata": {
        "id": "kJ0Cpo99ecNp",
        "outputId": "8a9a6f5a-7f7f-4bfc-b83c-08dd76e453ac",
        "colab": {
          "base_uri": "https://localhost:8080/"
        }
      },
      "execution_count": null,
      "outputs": [
        {
          "output_type": "execute_result",
          "data": {
            "text/plain": [
              "array([ 0,  1,  2,  3,  4,  5,  6,  7,  8,  9, 10, 11, 12, 13, 14, 15, 16,\n",
              "       17, 18, 19, 20, 21, 22, 23, 24, 25, 26, 27, 28, 29, 30, 31, 32, 33,\n",
              "       34, 35, 36, 37, 38, 39, 40, 41, 42, 43, 44, 45])"
            ]
          },
          "metadata": {},
          "execution_count": 1
        }
      ]
    },
    {
      "cell_type": "code",
      "source": [
        "#2) 랜덤 씨드값을 85로 설정하여라. 그런 다음 이 배열을 랜덤하게 섞어서(shuffle) 첫 6개의 숫자를 슬라이싱 하라. 그 결과를 lotto라는 변수에 할당한 후, 다음과 같이 출력하라.\n",
        "#lotto = [22 9 15 44 39 37]\n",
        "np.random.seed(85)\n",
        "a = np.random.randint(45,size=45)\n",
        "lotto = a[0:6]\n",
        "print(a)\n",
        "print(\"lotto =\",lotto)"
      ],
      "metadata": {
        "colab": {
          "base_uri": "https://localhost:8080/"
        },
        "id": "R7InCczrANJt",
        "outputId": "98f539fb-d2cb-4f8b-a8e0-5698239b861f"
      },
      "execution_count": null,
      "outputs": [
        {
          "output_type": "stream",
          "name": "stdout",
          "text": [
            "[42 32 13  4 13 19 37 15 33 24 29  3 27 11  6 32 39 28 29 39 25  9 38 44\n",
            " 19 22 44 42 30 34 12 21 41 36 11 15 31 35 44 16  9  9 12 16 12]\n",
            "lotto = [42 32 13  4 13 19]\n"
          ]
        }
      ]
    },
    {
      "cell_type": "code",
      "source": [
        "#3) lotto 배열을 정렬한 후 출력하고 추가번호를 출력하라. 추가번호는 7번째 숫자를 출력하라.\n",
        "lotto.sort()\n",
        "plus = a[6]\n",
        "print(\"lotto =\",lotto,\", 추가번호 =\",plus)"
      ],
      "metadata": {
        "colab": {
          "base_uri": "https://localhost:8080/"
        },
        "id": "9K6tSxTYEJ8e",
        "outputId": "d78a3bb0-5abc-44bb-fa98-e8f4b0e9796b"
      },
      "execution_count": null,
      "outputs": [
        {
          "output_type": "stream",
          "name": "stdout",
          "text": [
            "lotto = [ 4 13 13 19 32 42] , 추가번호 = 37\n"
          ]
        }
      ]
    },
    {
      "cell_type": "code",
      "source": [
        "#4) 다음과 같이 0에서 24까지의 값을 가지는 5 X 5 크기의 2차원 행렬 n_arr을 생성하여라\n",
        "#[[ 0 1 2 3 4]\n",
        "# [ 5 6 7 8 9]\n",
        "# [10 11 12 13 14]\n",
        "# [15 16 17 18 19]\n",
        "# [20 21 22 23 24]]\n",
        "n_arr=np.arange(25).reshape(5,5)\n",
        "print(n_arr)"
      ],
      "metadata": {
        "colab": {
          "base_uri": "https://localhost:8080/"
        },
        "id": "dWM1nH1_EmQp",
        "outputId": "5f9ea620-815d-4044-fb1b-fb688bf499a9"
      },
      "execution_count": null,
      "outputs": [
        {
          "output_type": "stream",
          "name": "stdout",
          "text": [
            "[[ 0  1  2  3  4]\n",
            " [ 5  6  7  8  9]\n",
            " [10 11 12 13 14]\n",
            " [15 16 17 18 19]\n",
            " [20 21 22 23 24]]\n"
          ]
        }
      ]
    },
    {
      "cell_type": "code",
      "source": [
        "#5) 앞서 만든 n_arr의 가장 첫 원소와 가장 마지막 원소를 인덱싱하여 다음과 같이 출력하여라. 이때, 마지막 원소의 인덱싱은\n",
        "#반드시 음수 값을 사용하여라.\n",
        "#첫 원소 : 0\n",
        "#마지막 원소 : 24\n",
        "print(\"첫 원소 :\",n_arr[0,0])\n",
        "print(\"마지막 원소 :\",n_arr[-1,-1])"
      ],
      "metadata": {
        "colab": {
          "base_uri": "https://localhost:8080/"
        },
        "id": "ifWDAcmcHYjm",
        "outputId": "18129b17-aa08-4036-adbe-dbfded62971d"
      },
      "execution_count": null,
      "outputs": [
        {
          "output_type": "stream",
          "name": "stdout",
          "text": [
            "첫 원소 : 0\n",
            "마지막 원소 : 24\n"
          ]
        }
      ]
    },
    {
      "cell_type": "code",
      "source": [
        "#6) n_arr 배열에 슬라이싱을 적용하여 다음과 같은 값을 가지는 배열을 생성하여라.\n",
        "#[[0 1 2 3 4]\n",
        "#[5 6 7 8 9]]\n",
        "answer=n_arr[0:2,:]\n",
        "print(answer)"
      ],
      "metadata": {
        "colab": {
          "base_uri": "https://localhost:8080/"
        },
        "id": "SULDNUOMJI4L",
        "outputId": "7f4fdf29-aae2-401f-dfd1-22802f21a63b"
      },
      "execution_count": null,
      "outputs": [
        {
          "output_type": "stream",
          "name": "stdout",
          "text": [
            "[[0 1 2 3 4]\n",
            " [5 6 7 8 9]]\n"
          ]
        }
      ]
    },
    {
      "cell_type": "code",
      "source": [
        "#7) n_arr 배열에 슬라이싱을 적용하여 다음과 같은 값을 가지는 배열을 생성하여라.\n",
        "#[[ 0 2 4]\n",
        "#[ 5 7 9]\n",
        "#[10 12 14]\n",
        "#[15 17 19]\n",
        "#[20 22 24]]\n",
        "answer = n_arr[:,::2]\n",
        "print(answer)"
      ],
      "metadata": {
        "colab": {
          "base_uri": "https://localhost:8080/"
        },
        "id": "bp2miU5yJi0U",
        "outputId": "8f45e821-f83a-4a75-b963-7b5fda8c0aac"
      },
      "execution_count": null,
      "outputs": [
        {
          "output_type": "stream",
          "name": "stdout",
          "text": [
            "[[ 0  2  4]\n",
            " [ 5  7  9]\n",
            " [10 12 14]\n",
            " [15 17 19]\n",
            " [20 22 24]]\n"
          ]
        }
      ]
    },
    {
      "cell_type": "code",
      "source": [
        "#8) n_arr 배열에 슬라이싱을 적용한 후, reshape()을 적용하여 다음과 같은 값을 가지는 배열을 생성하여라.\n",
        "#[[0 1]\n",
        "#[2 3]\n",
        "#[4 5]\n",
        "#[6 7]\n",
        "#[8 9]]\n",
        "print(n_arr[0:2,:].reshape(5,2))"
      ],
      "metadata": {
        "colab": {
          "base_uri": "https://localhost:8080/"
        },
        "id": "701AsleRKOyV",
        "outputId": "735ddcf7-73e5-4cff-e92a-dff3d456aa22"
      },
      "execution_count": null,
      "outputs": [
        {
          "output_type": "stream",
          "name": "stdout",
          "text": [
            "[[0 1]\n",
            " [2 3]\n",
            " [4 5]\n",
            " [6 7]\n",
            " [8 9]]\n"
          ]
        }
      ]
    },
    {
      "cell_type": "code",
      "source": [
        "#3.2 다음과 같이 난수로 이루어진 2x2x2 형태의 배열 a를 생성하여라.\n",
        "#array([[[   0.090924591,   -0.34474798],\n",
        "#        [  -0.93602735,    0.45142614]],\n",
        "\n",
        "#        [[ -0.83522591,   1.43767399],\n",
        "#         [ -0.08459385,   0.35577307]]])\n",
        "a = np.random.randn(8).reshape(2,2,2)\n",
        "a"
      ],
      "metadata": {
        "colab": {
          "base_uri": "https://localhost:8080/"
        },
        "id": "WG6Ty8HVKsrv",
        "outputId": "d52310d1-a864-464a-e7b7-7087891ca763"
      },
      "execution_count": null,
      "outputs": [
        {
          "output_type": "execute_result",
          "data": {
            "text/plain": [
              "array([[[-0.9442699 ,  1.13037816],\n",
              "        [-0.67865074,  0.05602191]],\n",
              "\n",
              "       [[ 2.26629148,  0.90764928],\n",
              "        [-1.08898305, -0.18553942]]])"
            ]
          },
          "metadata": {},
          "execution_count": 82
        }
      ]
    },
    {
      "cell_type": "code",
      "source": [
        "#1) a 배열에서 max() 메소드를 사용하여 가장 큰 값을 구하여 다음과 같이 출력하라.\n",
        "# a 배열의 최대값 : 1.4376739942182297\n",
        "print(\"a 배열의 최대값 :\",a.max())"
      ],
      "metadata": {
        "colab": {
          "base_uri": "https://localhost:8080/"
        },
        "id": "nYMf97vqMM0f",
        "outputId": "e38e96f1-560e-4e2c-cf66-992db0871f7b"
      },
      "execution_count": null,
      "outputs": [
        {
          "output_type": "stream",
          "name": "stdout",
          "text": [
            "a 배열의 최대값 : 2.2662914771454723\n"
          ]
        }
      ]
    },
    {
      "cell_type": "code",
      "source": [
        "#2) a 배열에서 min() 메소드를 사용하여 가장 작은 값을 구한 다음 출력하여라.\n",
        "# a 배열의 최소값 : -0.9360273546035357\n",
        "print(\"a 배열의 최소값 :\",a.min())"
      ],
      "metadata": {
        "colab": {
          "base_uri": "https://localhost:8080/"
        },
        "id": "IRu84A_yMd39",
        "outputId": "c88e376e-fe2b-4d92-b00f-986b186cd7b7"
      },
      "execution_count": null,
      "outputs": [
        {
          "output_type": "stream",
          "name": "stdout",
          "text": [
            "a 배열의 최소값 : -1.0889830522031287\n"
          ]
        }
      ]
    }
  ],
  "metadata": {
    "colab": {
      "collapsed_sections": [],
      "name": "Numpy 문제",
      "toc_visible": true,
      "provenance": [],
      "include_colab_link": true
    },
    "kernelspec": {
      "display_name": "Python 3",
      "name": "python3"
    }
  },
  "nbformat": 4,
  "nbformat_minor": 0
}